{
 "cells": [
  {
   "cell_type": "code",
   "execution_count": 1,
   "metadata": {},
   "outputs": [],
   "source": [
    "import pandas as pd\n",
    "import pyarrow.parquet as pq\n",
    "import gzip"
   ]
  },
  {
   "cell_type": "code",
   "execution_count": 2,
   "metadata": {},
   "outputs": [],
   "source": [
    "# Funcion 2\n",
    "parquet_ruta_fc2 = \"df_funciones/df_user_for_genre.parquet\"\n",
    "df_funcion_UserForGenre = pd.read_parquet(parquet_ruta_fc2)"
   ]
  },
  {
   "cell_type": "code",
   "execution_count": 3,
   "metadata": {},
   "outputs": [],
   "source": [
    "df_funcion_UserForGenre_reducida = df_funcion_UserForGenre.copy()"
   ]
  },
  {
   "cell_type": "code",
   "execution_count": 5,
   "metadata": {},
   "outputs": [],
   "source": [
    "df_funcion_UserForGenre_reducida = df_funcion_UserForGenre_reducida.drop(columns='title')"
   ]
  },
  {
   "cell_type": "code",
   "execution_count": 7,
   "metadata": {},
   "outputs": [],
   "source": [
    "# Define cuántas filas quieres mantener (ajusta según sea necesario)\n",
    "filas_a_mantener = 400000\n",
    "\n",
    "# Elimina las filas más recientes\n",
    "df_funcion_UserForGenre_reducida = df_funcion_UserForGenre_reducida.head(filas_a_mantener)\n"
   ]
  },
  {
   "cell_type": "code",
   "execution_count": 8,
   "metadata": {},
   "outputs": [
    {
     "data": {
      "text/html": [
       "<div>\n",
       "<style scoped>\n",
       "    .dataframe tbody tr th:only-of-type {\n",
       "        vertical-align: middle;\n",
       "    }\n",
       "\n",
       "    .dataframe tbody tr th {\n",
       "        vertical-align: top;\n",
       "    }\n",
       "\n",
       "    .dataframe thead th {\n",
       "        text-align: right;\n",
       "    }\n",
       "</style>\n",
       "<table border=\"1\" class=\"dataframe\">\n",
       "  <thead>\n",
       "    <tr style=\"text-align: right;\">\n",
       "      <th></th>\n",
       "      <th>user_id</th>\n",
       "      <th>playtime_forever</th>\n",
       "      <th>item_name</th>\n",
       "      <th>genres</th>\n",
       "    </tr>\n",
       "  </thead>\n",
       "  <tbody>\n",
       "    <tr>\n",
       "      <th>0</th>\n",
       "      <td>76561197970982479</td>\n",
       "      <td>6.0</td>\n",
       "      <td>Counter-Strike</td>\n",
       "      <td>Action</td>\n",
       "    </tr>\n",
       "    <tr>\n",
       "      <th>1</th>\n",
       "      <td>js41637</td>\n",
       "      <td>0.0</td>\n",
       "      <td>Counter-Strike</td>\n",
       "      <td>Action</td>\n",
       "    </tr>\n",
       "    <tr>\n",
       "      <th>2</th>\n",
       "      <td>Riot-Punch</td>\n",
       "      <td>0.0</td>\n",
       "      <td>Counter-Strike</td>\n",
       "      <td>Action</td>\n",
       "    </tr>\n",
       "    <tr>\n",
       "      <th>3</th>\n",
       "      <td>doctr</td>\n",
       "      <td>93.0</td>\n",
       "      <td>Counter-Strike</td>\n",
       "      <td>Action</td>\n",
       "    </tr>\n",
       "    <tr>\n",
       "      <th>4</th>\n",
       "      <td>corrupted_soul</td>\n",
       "      <td>108.0</td>\n",
       "      <td>Counter-Strike</td>\n",
       "      <td>Action</td>\n",
       "    </tr>\n",
       "    <tr>\n",
       "      <th>...</th>\n",
       "      <td>...</td>\n",
       "      <td>...</td>\n",
       "      <td>...</td>\n",
       "      <td>...</td>\n",
       "    </tr>\n",
       "    <tr>\n",
       "      <th>399995</th>\n",
       "      <td>76561198059014191</td>\n",
       "      <td>65.0</td>\n",
       "      <td>Arma 2: Operation Arrowhead</td>\n",
       "      <td>Strategy</td>\n",
       "    </tr>\n",
       "    <tr>\n",
       "      <th>399996</th>\n",
       "      <td>1-800-Invisible</td>\n",
       "      <td>16.0</td>\n",
       "      <td>Arma 2: Operation Arrowhead</td>\n",
       "      <td>Action</td>\n",
       "    </tr>\n",
       "    <tr>\n",
       "      <th>399997</th>\n",
       "      <td>1-800-Invisible</td>\n",
       "      <td>16.0</td>\n",
       "      <td>Arma 2: Operation Arrowhead</td>\n",
       "      <td>Simulation</td>\n",
       "    </tr>\n",
       "    <tr>\n",
       "      <th>399998</th>\n",
       "      <td>1-800-Invisible</td>\n",
       "      <td>16.0</td>\n",
       "      <td>Arma 2: Operation Arrowhead</td>\n",
       "      <td>Strategy</td>\n",
       "    </tr>\n",
       "    <tr>\n",
       "      <th>399999</th>\n",
       "      <td>savingprivatellama</td>\n",
       "      <td>10.0</td>\n",
       "      <td>Arma 2: Operation Arrowhead</td>\n",
       "      <td>Action</td>\n",
       "    </tr>\n",
       "  </tbody>\n",
       "</table>\n",
       "<p>400000 rows × 4 columns</p>\n",
       "</div>"
      ],
      "text/plain": [
       "                   user_id  playtime_forever                    item_name  \\\n",
       "0        76561197970982479               6.0               Counter-Strike   \n",
       "1                  js41637               0.0               Counter-Strike   \n",
       "2               Riot-Punch               0.0               Counter-Strike   \n",
       "3                    doctr              93.0               Counter-Strike   \n",
       "4           corrupted_soul             108.0               Counter-Strike   \n",
       "...                    ...               ...                          ...   \n",
       "399995   76561198059014191              65.0  Arma 2: Operation Arrowhead   \n",
       "399996     1-800-Invisible              16.0  Arma 2: Operation Arrowhead   \n",
       "399997     1-800-Invisible              16.0  Arma 2: Operation Arrowhead   \n",
       "399998     1-800-Invisible              16.0  Arma 2: Operation Arrowhead   \n",
       "399999  savingprivatellama              10.0  Arma 2: Operation Arrowhead   \n",
       "\n",
       "            genres  \n",
       "0           Action  \n",
       "1           Action  \n",
       "2           Action  \n",
       "3           Action  \n",
       "4           Action  \n",
       "...            ...  \n",
       "399995    Strategy  \n",
       "399996      Action  \n",
       "399997  Simulation  \n",
       "399998    Strategy  \n",
       "399999      Action  \n",
       "\n",
       "[400000 rows x 4 columns]"
      ]
     },
     "execution_count": 8,
     "metadata": {},
     "output_type": "execute_result"
    }
   ],
   "source": [
    "df_funcion_UserForGenre_reducida"
   ]
  },
  {
   "cell_type": "code",
   "execution_count": 9,
   "metadata": {},
   "outputs": [],
   "source": [
    "df_funcion_UserForGenre_reducida.to_parquet('df_funciones/df_funcion_UserForGenre_reducida.parquet')\n"
   ]
  },
  {
   "cell_type": "markdown",
   "metadata": {},
   "source": [
    "----\n",
    "---\n",
    "---\n",
    "---\n"
   ]
  },
  {
   "cell_type": "code",
   "execution_count": 10,
   "metadata": {},
   "outputs": [],
   "source": [
    "# Funcion 1\n",
    "parquet_ruta_fc1 = \"df_funciones/df_funcion_PlayTimeGenre.parquet\"\n",
    "df_funcion_PlaytimeGenre = pd.read_parquet(parquet_ruta_fc1)"
   ]
  },
  {
   "cell_type": "code",
   "execution_count": 11,
   "metadata": {},
   "outputs": [
    {
     "data": {
      "text/html": [
       "<div>\n",
       "<style scoped>\n",
       "    .dataframe tbody tr th:only-of-type {\n",
       "        vertical-align: middle;\n",
       "    }\n",
       "\n",
       "    .dataframe tbody tr th {\n",
       "        vertical-align: top;\n",
       "    }\n",
       "\n",
       "    .dataframe thead th {\n",
       "        text-align: right;\n",
       "    }\n",
       "</style>\n",
       "<table border=\"1\" class=\"dataframe\">\n",
       "  <thead>\n",
       "    <tr style=\"text-align: right;\">\n",
       "      <th></th>\n",
       "      <th>steam_id</th>\n",
       "      <th>item_id</th>\n",
       "      <th>item_name</th>\n",
       "      <th>playtime_forever</th>\n",
       "      <th>id</th>\n",
       "      <th>genres</th>\n",
       "      <th>title</th>\n",
       "      <th>year</th>\n",
       "    </tr>\n",
       "  </thead>\n",
       "  <tbody>\n",
       "    <tr>\n",
       "      <th>0</th>\n",
       "      <td>76561197970982479</td>\n",
       "      <td>10.0</td>\n",
       "      <td>Counter-Strike</td>\n",
       "      <td>6.0</td>\n",
       "      <td>10</td>\n",
       "      <td>Action</td>\n",
       "      <td>Counter-Strike</td>\n",
       "      <td>2000</td>\n",
       "    </tr>\n",
       "    <tr>\n",
       "      <th>1</th>\n",
       "      <td>76561198035864385</td>\n",
       "      <td>10.0</td>\n",
       "      <td>Counter-Strike</td>\n",
       "      <td>0.0</td>\n",
       "      <td>10</td>\n",
       "      <td>Action</td>\n",
       "      <td>Counter-Strike</td>\n",
       "      <td>2000</td>\n",
       "    </tr>\n",
       "    <tr>\n",
       "      <th>2</th>\n",
       "      <td>76561197963445855</td>\n",
       "      <td>10.0</td>\n",
       "      <td>Counter-Strike</td>\n",
       "      <td>0.0</td>\n",
       "      <td>10</td>\n",
       "      <td>Action</td>\n",
       "      <td>Counter-Strike</td>\n",
       "      <td>2000</td>\n",
       "    </tr>\n",
       "    <tr>\n",
       "      <th>3</th>\n",
       "      <td>76561198002099482</td>\n",
       "      <td>10.0</td>\n",
       "      <td>Counter-Strike</td>\n",
       "      <td>93.0</td>\n",
       "      <td>10</td>\n",
       "      <td>Action</td>\n",
       "      <td>Counter-Strike</td>\n",
       "      <td>2000</td>\n",
       "    </tr>\n",
       "    <tr>\n",
       "      <th>4</th>\n",
       "      <td>76561198007659921</td>\n",
       "      <td>10.0</td>\n",
       "      <td>Counter-Strike</td>\n",
       "      <td>108.0</td>\n",
       "      <td>10</td>\n",
       "      <td>Action</td>\n",
       "      <td>Counter-Strike</td>\n",
       "      <td>2000</td>\n",
       "    </tr>\n",
       "    <tr>\n",
       "      <th>...</th>\n",
       "      <td>...</td>\n",
       "      <td>...</td>\n",
       "      <td>...</td>\n",
       "      <td>...</td>\n",
       "      <td>...</td>\n",
       "      <td>...</td>\n",
       "      <td>...</td>\n",
       "      <td>...</td>\n",
       "    </tr>\n",
       "    <tr>\n",
       "      <th>7410594</th>\n",
       "      <td>76561198071808318</td>\n",
       "      <td>444770.0</td>\n",
       "      <td>Mimpi Dreams</td>\n",
       "      <td>46.0</td>\n",
       "      <td>444770</td>\n",
       "      <td>Indie</td>\n",
       "      <td>Mimpi Dreams</td>\n",
       "      <td>2016</td>\n",
       "    </tr>\n",
       "    <tr>\n",
       "      <th>7410595</th>\n",
       "      <td>76561198107283457</td>\n",
       "      <td>354280.0</td>\n",
       "      <td>ChaosTower</td>\n",
       "      <td>164.0</td>\n",
       "      <td>354280</td>\n",
       "      <td>Action</td>\n",
       "      <td>ChaosTower</td>\n",
       "      <td>2016</td>\n",
       "    </tr>\n",
       "    <tr>\n",
       "      <th>7410596</th>\n",
       "      <td>76561198107283457</td>\n",
       "      <td>354280.0</td>\n",
       "      <td>ChaosTower</td>\n",
       "      <td>164.0</td>\n",
       "      <td>354280</td>\n",
       "      <td>Casual</td>\n",
       "      <td>ChaosTower</td>\n",
       "      <td>2016</td>\n",
       "    </tr>\n",
       "    <tr>\n",
       "      <th>7410597</th>\n",
       "      <td>76561198107283457</td>\n",
       "      <td>354280.0</td>\n",
       "      <td>ChaosTower</td>\n",
       "      <td>164.0</td>\n",
       "      <td>354280</td>\n",
       "      <td>Indie</td>\n",
       "      <td>ChaosTower</td>\n",
       "      <td>2016</td>\n",
       "    </tr>\n",
       "    <tr>\n",
       "      <th>7410598</th>\n",
       "      <td>76561198107283457</td>\n",
       "      <td>354280.0</td>\n",
       "      <td>ChaosTower</td>\n",
       "      <td>164.0</td>\n",
       "      <td>354280</td>\n",
       "      <td>Simulation</td>\n",
       "      <td>ChaosTower</td>\n",
       "      <td>2016</td>\n",
       "    </tr>\n",
       "  </tbody>\n",
       "</table>\n",
       "<p>7410599 rows × 8 columns</p>\n",
       "</div>"
      ],
      "text/plain": [
       "                  steam_id   item_id       item_name  playtime_forever  \\\n",
       "0        76561197970982479      10.0  Counter-Strike               6.0   \n",
       "1        76561198035864385      10.0  Counter-Strike               0.0   \n",
       "2        76561197963445855      10.0  Counter-Strike               0.0   \n",
       "3        76561198002099482      10.0  Counter-Strike              93.0   \n",
       "4        76561198007659921      10.0  Counter-Strike             108.0   \n",
       "...                    ...       ...             ...               ...   \n",
       "7410594  76561198071808318  444770.0    Mimpi Dreams              46.0   \n",
       "7410595  76561198107283457  354280.0      ChaosTower             164.0   \n",
       "7410596  76561198107283457  354280.0      ChaosTower             164.0   \n",
       "7410597  76561198107283457  354280.0      ChaosTower             164.0   \n",
       "7410598  76561198107283457  354280.0      ChaosTower             164.0   \n",
       "\n",
       "             id      genres           title  year  \n",
       "0            10      Action  Counter-Strike  2000  \n",
       "1            10      Action  Counter-Strike  2000  \n",
       "2            10      Action  Counter-Strike  2000  \n",
       "3            10      Action  Counter-Strike  2000  \n",
       "4            10      Action  Counter-Strike  2000  \n",
       "...         ...         ...             ...   ...  \n",
       "7410594  444770       Indie    Mimpi Dreams  2016  \n",
       "7410595  354280      Action      ChaosTower  2016  \n",
       "7410596  354280      Casual      ChaosTower  2016  \n",
       "7410597  354280       Indie      ChaosTower  2016  \n",
       "7410598  354280  Simulation      ChaosTower  2016  \n",
       "\n",
       "[7410599 rows x 8 columns]"
      ]
     },
     "execution_count": 11,
     "metadata": {},
     "output_type": "execute_result"
    }
   ],
   "source": [
    "df_funcion_PlaytimeGenre"
   ]
  },
  {
   "cell_type": "code",
   "execution_count": 12,
   "metadata": {},
   "outputs": [],
   "source": [
    "df_funcion_PlaytimeGenre_reducido = df_funcion_PlaytimeGenre.drop(columns=['steam_id', 'id', 'title'])"
   ]
  },
  {
   "cell_type": "code",
   "execution_count": 13,
   "metadata": {},
   "outputs": [],
   "source": [
    "# Define cuántas filas quieres mantener (ajusta según sea necesario)\n",
    "filas_a_mantener_2 = 400000\n",
    "\n",
    "# Elimina las filas más recientes\n",
    "df_funcion_PlaytimeGenre_reducido = df_funcion_PlaytimeGenre_reducido.head(filas_a_mantener_2)\n"
   ]
  },
  {
   "cell_type": "code",
   "execution_count": null,
   "metadata": {},
   "outputs": [],
   "source": [
    "df_funcion_PlaytimeGenre_reducido.to_parquet('df_funciones/df_funcion_PlayTimeGenre_reducido.parquet')"
   ]
  },
  {
   "cell_type": "markdown",
   "metadata": {},
   "source": [
    "----"
   ]
  },
  {
   "cell_type": "markdown",
   "metadata": {},
   "source": [
    "Funcion 1"
   ]
  },
  {
   "cell_type": "code",
   "execution_count": 9,
   "metadata": {},
   "outputs": [],
   "source": [
    "parquet_ruta_fc1 = \"df_funciones/df_funcion_PlayTimeGenre.parquet\"\n",
    "df_funcion_PlaytimeGenre = pd.read_parquet(parquet_ruta_fc1)"
   ]
  },
  {
   "cell_type": "code",
   "execution_count": 11,
   "metadata": {},
   "outputs": [],
   "source": [
    "# Ruta de destino para el archivo Parquet comprimido con gzip\n",
    "output_path = 'df_funciones/df_funcion_PlayTimeGenre_gzip.parquet'\n",
    "\n",
    "# Escribir el DataFrame en un archivo Parquet comprimido con gzip\n",
    "df_funcion_PlaytimeGenre.to_parquet(output_path, compression='gzip')\n",
    "\n",
    "\n"
   ]
  },
  {
   "cell_type": "code",
   "execution_count": 12,
   "metadata": {},
   "outputs": [],
   "source": [
    "parquet_file_path1 = \"df_funciones/df_funcion_PlayTimeGenre_gzip.parquet\""
   ]
  },
  {
   "cell_type": "code",
   "execution_count": 13,
   "metadata": {},
   "outputs": [],
   "source": [
    "parquet_file1 = pq.ParquetFile(parquet_file_path1)"
   ]
  },
  {
   "cell_type": "code",
   "execution_count": 20,
   "metadata": {},
   "outputs": [
    {
     "data": {
      "text/plain": [
       "<pyarrow.parquet.core.ParquetFile at 0x1f7fe1cff10>"
      ]
     },
     "execution_count": 20,
     "metadata": {},
     "output_type": "execute_result"
    }
   ],
   "source": [
    "parquet_file1"
   ]
  },
  {
   "cell_type": "markdown",
   "metadata": {},
   "source": [
    "Para tomar muestra del data frame"
   ]
  },
  {
   "cell_type": "code",
   "execution_count": 18,
   "metadata": {},
   "outputs": [],
   "source": [
    "sample_percent = 5\n",
    "# Lee una muestra del archivo Parquet con pyarrow\n",
    "parquet_file1 = pq.ParquetFile(parquet_file_path1)\n",
    "# Cuenta las filas\n",
    "total_rows1 = parquet_file1.metadata.num_rows\n",
    "# Toma un % de muestra\n",
    "sample_rows1 = int(total_rows1 * (sample_percent / 100.0))\n",
    "df_PlayTimeGenre_muestra = parquet_file1.read_row_groups(row_groups=[0]).to_pandas().head(sample_rows1//80)"
   ]
  },
  {
   "cell_type": "code",
   "execution_count": null,
   "metadata": {},
   "outputs": [],
   "source": []
  },
  {
   "cell_type": "code",
   "execution_count": null,
   "metadata": {},
   "outputs": [],
   "source": []
  },
  {
   "cell_type": "code",
   "execution_count": null,
   "metadata": {},
   "outputs": [],
   "source": []
  },
  {
   "cell_type": "code",
   "execution_count": null,
   "metadata": {},
   "outputs": [],
   "source": []
  },
  {
   "cell_type": "markdown",
   "metadata": {},
   "source": [
    "# PROCEDIMIENTO A HACER Y PROBAR\n"
   ]
  },
  {
   "cell_type": "markdown",
   "metadata": {},
   "source": [
    "Funcion 2"
   ]
  },
  {
   "cell_type": "code",
   "execution_count": 23,
   "metadata": {},
   "outputs": [],
   "source": [
    "# Funcion 2\n",
    "parquet_ruta_fc2 = \"df_funciones/df_user_for_genre.parquet\"\n",
    "df_funcion_UserForGenre = pd.read_parquet(parquet_ruta_fc2)"
   ]
  },
  {
   "cell_type": "code",
   "execution_count": 24,
   "metadata": {},
   "outputs": [],
   "source": [
    "# Ruta de destino para el archivo Parquet comprimido con gzip\n",
    "output_path2 = 'df_funciones/df_user_for_genre_gzip.parquet'\n",
    "\n",
    "# Escribir el DataFrame en un archivo Parquet comprimido con gzip\n",
    "df_funcion_UserForGenre.to_parquet(output_path2, compression='gzip')"
   ]
  },
  {
   "cell_type": "code",
   "execution_count": 27,
   "metadata": {},
   "outputs": [],
   "source": [
    "parquet_file_path2 = 'df_funciones/df_user_for_genre_gzip.parquet'"
   ]
  },
  {
   "cell_type": "code",
   "execution_count": 29,
   "metadata": {},
   "outputs": [],
   "source": [
    "parquet_file2 = pq.ParquetFile(parquet_file_path2)"
   ]
  },
  {
   "cell_type": "code",
   "execution_count": 30,
   "metadata": {},
   "outputs": [
    {
     "data": {
      "text/plain": [
       "<pyarrow.parquet.core.ParquetFile at 0x1f7fe1ded10>"
      ]
     },
     "execution_count": 30,
     "metadata": {},
     "output_type": "execute_result"
    }
   ],
   "source": [
    "parquet_file2"
   ]
  },
  {
   "cell_type": "code",
   "execution_count": 31,
   "metadata": {},
   "outputs": [],
   "source": [
    "sample_percent = 5\n",
    "# Lee una muestra del archivo Parquet con pyarrow\n",
    "parquet_file2 = pq.ParquetFile(parquet_file_path2)\n",
    "# Cuenta las filas\n",
    "total_rows2 = parquet_file2.metadata.num_rows\n",
    "# Toma un % de muestra\n",
    "sample_rows2 = int(total_rows2 * (sample_percent / 100.0))\n",
    "df_funcion_UserForGenre = parquet_file1.read_row_groups(row_groups=[0]).to_pandas().head(sample_rows1//80)"
   ]
  },
  {
   "cell_type": "markdown",
   "metadata": {},
   "source": [
    "# Tomamos muestra aleatoria, reducida y eliminamos columnas demas"
   ]
  },
  {
   "cell_type": "markdown",
   "metadata": {},
   "source": [
    "# Funcion 1\n"
   ]
  },
  {
   "cell_type": "code",
   "execution_count": 2,
   "metadata": {},
   "outputs": [],
   "source": [
    "parquet_ruta_fc1 = \"df_funciones/df_funcion_PlayTimeGenre.parquet\"\n",
    "df_funcion_PlaytimeGenre = pd.read_parquet(parquet_ruta_fc1)"
   ]
  },
  {
   "cell_type": "code",
   "execution_count": 7,
   "metadata": {},
   "outputs": [],
   "source": [
    "# Especifica el porcentaje de muestra deseado\n",
    "sample_percent_1 = 5  # Por ejemplo, toma el 20% de las filas\n",
    "\n",
    "# Toma una muestra aleatoria del DataFrame\n",
    "df_funcion_PlaytimeGenre_reducido = df_funcion_PlaytimeGenre.sample(frac=sample_percent_1/100.0, random_state=42) # Puedes ajustar el random_state según tus necesidades\n",
    "\n",
    "# Elimino columnas demas\n",
    "df_funcion_PlaytimeGenre_reducido = df_funcion_PlaytimeGenre_reducido.drop(columns=['item_id', 'item_name'])\n",
    "\n",
    "# Resetear indice\n",
    "df_funcion_PlaytimeGenre_reducido = df_funcion_PlaytimeGenre_reducido.reset_index(drop=True)"
   ]
  },
  {
   "cell_type": "code",
   "execution_count": 33,
   "metadata": {},
   "outputs": [
    {
     "data": {
      "text/html": [
       "<div>\n",
       "<style scoped>\n",
       "    .dataframe tbody tr th:only-of-type {\n",
       "        vertical-align: middle;\n",
       "    }\n",
       "\n",
       "    .dataframe tbody tr th {\n",
       "        vertical-align: top;\n",
       "    }\n",
       "\n",
       "    .dataframe thead th {\n",
       "        text-align: right;\n",
       "    }\n",
       "</style>\n",
       "<table border=\"1\" class=\"dataframe\">\n",
       "  <thead>\n",
       "    <tr style=\"text-align: right;\">\n",
       "      <th></th>\n",
       "      <th>playtime_forever</th>\n",
       "      <th>genres</th>\n",
       "      <th>year</th>\n",
       "    </tr>\n",
       "  </thead>\n",
       "  <tbody>\n",
       "    <tr>\n",
       "      <th>0</th>\n",
       "      <td>0.0</td>\n",
       "      <td>Action</td>\n",
       "      <td>1999</td>\n",
       "    </tr>\n",
       "    <tr>\n",
       "      <th>1</th>\n",
       "      <td>223.0</td>\n",
       "      <td>Action</td>\n",
       "      <td>2001</td>\n",
       "    </tr>\n",
       "    <tr>\n",
       "      <th>2</th>\n",
       "      <td>279.0</td>\n",
       "      <td>Action</td>\n",
       "      <td>1998</td>\n",
       "    </tr>\n",
       "    <tr>\n",
       "      <th>3</th>\n",
       "      <td>621.0</td>\n",
       "      <td>Action</td>\n",
       "      <td>2007</td>\n",
       "    </tr>\n",
       "    <tr>\n",
       "      <th>4</th>\n",
       "      <td>2607.0</td>\n",
       "      <td>Adventure</td>\n",
       "      <td>2010</td>\n",
       "    </tr>\n",
       "  </tbody>\n",
       "</table>\n",
       "</div>"
      ],
      "text/plain": [
       "   playtime_forever     genres  year\n",
       "0               0.0     Action  1999\n",
       "1             223.0     Action  2001\n",
       "2             279.0     Action  1998\n",
       "3             621.0     Action  2007\n",
       "4            2607.0  Adventure  2010"
      ]
     },
     "execution_count": 33,
     "metadata": {},
     "output_type": "execute_result"
    }
   ],
   "source": [
    "df_funcion_PlaytimeGenre_reducido.head()"
   ]
  },
  {
   "cell_type": "code",
   "execution_count": 9,
   "metadata": {},
   "outputs": [],
   "source": [
    "df_funcion_PlaytimeGenre_reducido.to_parquet('df_funciones/df_funcion_PlaytimeGenre2_reducido.parquet')"
   ]
  },
  {
   "cell_type": "markdown",
   "metadata": {},
   "source": [
    "Ese data frame para mi es mejor y es chico"
   ]
  },
  {
   "cell_type": "markdown",
   "metadata": {},
   "source": [
    "# Funcion 2"
   ]
  },
  {
   "cell_type": "code",
   "execution_count": 10,
   "metadata": {},
   "outputs": [],
   "source": [
    "parquet_ruta_fc2 = \"df_funciones/df_user_for_genre.parquet\"\n",
    "df_funcion_UserForGenre = pd.read_parquet(parquet_ruta_fc2)"
   ]
  },
  {
   "cell_type": "code",
   "execution_count": 12,
   "metadata": {},
   "outputs": [
    {
     "data": {
      "text/html": [
       "<div>\n",
       "<style scoped>\n",
       "    .dataframe tbody tr th:only-of-type {\n",
       "        vertical-align: middle;\n",
       "    }\n",
       "\n",
       "    .dataframe tbody tr th {\n",
       "        vertical-align: top;\n",
       "    }\n",
       "\n",
       "    .dataframe thead th {\n",
       "        text-align: right;\n",
       "    }\n",
       "</style>\n",
       "<table border=\"1\" class=\"dataframe\">\n",
       "  <thead>\n",
       "    <tr style=\"text-align: right;\">\n",
       "      <th></th>\n",
       "      <th>user_id</th>\n",
       "      <th>playtime_forever</th>\n",
       "      <th>genres</th>\n",
       "    </tr>\n",
       "  </thead>\n",
       "  <tbody>\n",
       "    <tr>\n",
       "      <th>0</th>\n",
       "      <td>76561198073732200</td>\n",
       "      <td>0.0</td>\n",
       "      <td>Action</td>\n",
       "    </tr>\n",
       "    <tr>\n",
       "      <th>1</th>\n",
       "      <td>76561197967947947</td>\n",
       "      <td>223.0</td>\n",
       "      <td>Action</td>\n",
       "    </tr>\n",
       "    <tr>\n",
       "      <th>2</th>\n",
       "      <td>76561198084214678</td>\n",
       "      <td>279.0</td>\n",
       "      <td>Action</td>\n",
       "    </tr>\n",
       "    <tr>\n",
       "      <th>3</th>\n",
       "      <td>azza213</td>\n",
       "      <td>621.0</td>\n",
       "      <td>Action</td>\n",
       "    </tr>\n",
       "    <tr>\n",
       "      <th>4</th>\n",
       "      <td>76561198012248864</td>\n",
       "      <td>2607.0</td>\n",
       "      <td>Adventure</td>\n",
       "    </tr>\n",
       "    <tr>\n",
       "      <th>...</th>\n",
       "      <td>...</td>\n",
       "      <td>...</td>\n",
       "      <td>...</td>\n",
       "    </tr>\n",
       "    <tr>\n",
       "      <th>19995</th>\n",
       "      <td>76561198095759305</td>\n",
       "      <td>0.0</td>\n",
       "      <td>Action</td>\n",
       "    </tr>\n",
       "    <tr>\n",
       "      <th>19996</th>\n",
       "      <td>WingsHD</td>\n",
       "      <td>2.0</td>\n",
       "      <td>Action</td>\n",
       "    </tr>\n",
       "    <tr>\n",
       "      <th>19997</th>\n",
       "      <td>TheAnonymousOne</td>\n",
       "      <td>165.0</td>\n",
       "      <td>Action</td>\n",
       "    </tr>\n",
       "    <tr>\n",
       "      <th>19998</th>\n",
       "      <td>margeobur</td>\n",
       "      <td>0.0</td>\n",
       "      <td>Action</td>\n",
       "    </tr>\n",
       "    <tr>\n",
       "      <th>19999</th>\n",
       "      <td>bigluan</td>\n",
       "      <td>1417.0</td>\n",
       "      <td>Strategy</td>\n",
       "    </tr>\n",
       "  </tbody>\n",
       "</table>\n",
       "<p>20000 rows × 3 columns</p>\n",
       "</div>"
      ],
      "text/plain": [
       "                 user_id  playtime_forever     genres\n",
       "0      76561198073732200               0.0     Action\n",
       "1      76561197967947947             223.0     Action\n",
       "2      76561198084214678             279.0     Action\n",
       "3                azza213             621.0     Action\n",
       "4      76561198012248864            2607.0  Adventure\n",
       "...                  ...               ...        ...\n",
       "19995  76561198095759305               0.0     Action\n",
       "19996            WingsHD               2.0     Action\n",
       "19997    TheAnonymousOne             165.0     Action\n",
       "19998          margeobur               0.0     Action\n",
       "19999            bigluan            1417.0   Strategy\n",
       "\n",
       "[20000 rows x 3 columns]"
      ]
     },
     "execution_count": 12,
     "metadata": {},
     "output_type": "execute_result"
    }
   ],
   "source": [
    "# Especifica el porcentaje de muestra deseado\n",
    "sample_percent_2 = 5\n",
    "\n",
    "# Toma una muestra aleatoria del DataFrame\n",
    "df_funcion_UserForGenre_reducido = df_funcion_UserForGenre.sample(frac=sample_percent_2/100.0, random_state=42) # Puedes ajustar el random_state según tus necesidades\n",
    "\n",
    "# Elimino columnas demas\n",
    "df_funcion_UserForGenre_reducido = df_funcion_UserForGenre_reducido.drop(columns=['item_name'])\n",
    "\n",
    "# Resetear indice\n",
    "df_funcion_UserForGenre_reducido = df_funcion_UserForGenre_reducido.reset_index(drop=True)\n",
    "\n",
    "df_funcion_UserForGenre_reducido"
   ]
  },
  {
   "cell_type": "code",
   "execution_count": 13,
   "metadata": {},
   "outputs": [],
   "source": [
    "df_funcion_UserForGenre_reducido.to_parquet('df_funciones/df_funcion_UserForGenre_reducido.parquet')"
   ]
  },
  {
   "cell_type": "markdown",
   "metadata": {},
   "source": [
    "# Funcion 3"
   ]
  },
  {
   "cell_type": "code",
   "execution_count": 14,
   "metadata": {},
   "outputs": [],
   "source": [
    "# Funcion 3\n",
    "users_reviews_fc3 = pd.read_csv('df_funciones/users_reviews_fc3.csv')\n",
    "listado_juegos_sin_repetidos = pd.read_csv('df_funciones/listado_juegos_sin_repetidos.csv')"
   ]
  },
  {
   "cell_type": "code",
   "execution_count": 15,
   "metadata": {},
   "outputs": [],
   "source": [
    "listado_juegos_sin_repetidos.to_parquet('df_funciones/listado_juegos_sin_repetidos.parquet')"
   ]
  },
  {
   "cell_type": "code",
   "execution_count": 17,
   "metadata": {},
   "outputs": [
    {
     "data": {
      "text/html": [
       "<div>\n",
       "<style scoped>\n",
       "    .dataframe tbody tr th:only-of-type {\n",
       "        vertical-align: middle;\n",
       "    }\n",
       "\n",
       "    .dataframe tbody tr th {\n",
       "        vertical-align: top;\n",
       "    }\n",
       "\n",
       "    .dataframe thead th {\n",
       "        text-align: right;\n",
       "    }\n",
       "</style>\n",
       "<table border=\"1\" class=\"dataframe\">\n",
       "  <thead>\n",
       "    <tr style=\"text-align: right;\">\n",
       "      <th></th>\n",
       "      <th>recommend</th>\n",
       "      <th>sentiment_analysis</th>\n",
       "      <th>item_id</th>\n",
       "      <th>year</th>\n",
       "    </tr>\n",
       "  </thead>\n",
       "  <tbody>\n",
       "    <tr>\n",
       "      <th>0</th>\n",
       "      <td>True</td>\n",
       "      <td>0</td>\n",
       "      <td>238010.0</td>\n",
       "      <td>2014</td>\n",
       "    </tr>\n",
       "    <tr>\n",
       "      <th>1</th>\n",
       "      <td>False</td>\n",
       "      <td>2</td>\n",
       "      <td>333930.0</td>\n",
       "      <td>2015</td>\n",
       "    </tr>\n",
       "    <tr>\n",
       "      <th>2</th>\n",
       "      <td>True</td>\n",
       "      <td>2</td>\n",
       "      <td>4000.0</td>\n",
       "      <td>2013</td>\n",
       "    </tr>\n",
       "    <tr>\n",
       "      <th>3</th>\n",
       "      <td>True</td>\n",
       "      <td>0</td>\n",
       "      <td>730.0</td>\n",
       "      <td>2014</td>\n",
       "    </tr>\n",
       "    <tr>\n",
       "      <th>4</th>\n",
       "      <td>True</td>\n",
       "      <td>2</td>\n",
       "      <td>219830.0</td>\n",
       "      <td>2014</td>\n",
       "    </tr>\n",
       "    <tr>\n",
       "      <th>...</th>\n",
       "      <td>...</td>\n",
       "      <td>...</td>\n",
       "      <td>...</td>\n",
       "      <td>...</td>\n",
       "    </tr>\n",
       "    <tr>\n",
       "      <th>2420</th>\n",
       "      <td>True</td>\n",
       "      <td>2</td>\n",
       "      <td>323370.0</td>\n",
       "      <td>2015</td>\n",
       "    </tr>\n",
       "    <tr>\n",
       "      <th>2421</th>\n",
       "      <td>True</td>\n",
       "      <td>2</td>\n",
       "      <td>570.0</td>\n",
       "      <td>2015</td>\n",
       "    </tr>\n",
       "    <tr>\n",
       "      <th>2422</th>\n",
       "      <td>True</td>\n",
       "      <td>2</td>\n",
       "      <td>230410.0</td>\n",
       "      <td>2013</td>\n",
       "    </tr>\n",
       "    <tr>\n",
       "      <th>2423</th>\n",
       "      <td>True</td>\n",
       "      <td>0</td>\n",
       "      <td>72850.0</td>\n",
       "      <td>2014</td>\n",
       "    </tr>\n",
       "    <tr>\n",
       "      <th>2424</th>\n",
       "      <td>True</td>\n",
       "      <td>2</td>\n",
       "      <td>500.0</td>\n",
       "      <td>2013</td>\n",
       "    </tr>\n",
       "  </tbody>\n",
       "</table>\n",
       "<p>2425 rows × 4 columns</p>\n",
       "</div>"
      ],
      "text/plain": [
       "      recommend  sentiment_analysis   item_id  year\n",
       "0          True                   0  238010.0  2014\n",
       "1         False                   2  333930.0  2015\n",
       "2          True                   2    4000.0  2013\n",
       "3          True                   0     730.0  2014\n",
       "4          True                   2  219830.0  2014\n",
       "...         ...                 ...       ...   ...\n",
       "2420       True                   2  323370.0  2015\n",
       "2421       True                   2     570.0  2015\n",
       "2422       True                   2  230410.0  2013\n",
       "2423       True                   0   72850.0  2014\n",
       "2424       True                   2     500.0  2013\n",
       "\n",
       "[2425 rows x 4 columns]"
      ]
     },
     "execution_count": 17,
     "metadata": {},
     "output_type": "execute_result"
    }
   ],
   "source": [
    "# Especifica el porcentaje de muestra deseado\n",
    "sample_percent_3 = 5\n",
    "\n",
    "# Toma una muestra aleatoria del DataFrame\n",
    "users_reviews_fc3_reducido = users_reviews_fc3.sample(frac=sample_percent_3/100.0, random_state=42) # Puedes ajustar el random_state según tus necesidades\n",
    "\n",
    "# Resetear indice\n",
    "users_reviews_fc3_reducido = users_reviews_fc3_reducido.reset_index(drop=True)\n",
    "\n",
    "users_reviews_fc3_reducido"
   ]
  },
  {
   "cell_type": "code",
   "execution_count": 18,
   "metadata": {},
   "outputs": [],
   "source": [
    "users_reviews_fc3_reducido.to_parquet('df_funciones/users_reviews_fc3_reducido.parquet')"
   ]
  },
  {
   "cell_type": "markdown",
   "metadata": {},
   "source": [
    "# Funcion 4"
   ]
  },
  {
   "cell_type": "code",
   "execution_count": 19,
   "metadata": {},
   "outputs": [],
   "source": [
    "# Funcion 4\n",
    "df_funcion_UsersWorstDeveloper = pd.read_csv('df_funciones/df_funcion_UsersWorstDeveloper.csv')"
   ]
  },
  {
   "cell_type": "code",
   "execution_count": 22,
   "metadata": {},
   "outputs": [
    {
     "data": {
      "text/html": [
       "<div>\n",
       "<style scoped>\n",
       "    .dataframe tbody tr th:only-of-type {\n",
       "        vertical-align: middle;\n",
       "    }\n",
       "\n",
       "    .dataframe tbody tr th {\n",
       "        vertical-align: top;\n",
       "    }\n",
       "\n",
       "    .dataframe thead th {\n",
       "        text-align: right;\n",
       "    }\n",
       "</style>\n",
       "<table border=\"1\" class=\"dataframe\">\n",
       "  <thead>\n",
       "    <tr style=\"text-align: right;\">\n",
       "      <th></th>\n",
       "      <th>recommend</th>\n",
       "      <th>sentiment_analysis</th>\n",
       "      <th>year</th>\n",
       "      <th>developer</th>\n",
       "    </tr>\n",
       "  </thead>\n",
       "  <tbody>\n",
       "    <tr>\n",
       "      <th>0</th>\n",
       "      <td>True</td>\n",
       "      <td>0</td>\n",
       "      <td>2014</td>\n",
       "      <td>Eidos Montreal,Feral Interactive (Mac)</td>\n",
       "    </tr>\n",
       "    <tr>\n",
       "      <th>1</th>\n",
       "      <td>False</td>\n",
       "      <td>2</td>\n",
       "      <td>2015</td>\n",
       "      <td>NaN</td>\n",
       "    </tr>\n",
       "    <tr>\n",
       "      <th>2</th>\n",
       "      <td>True</td>\n",
       "      <td>2</td>\n",
       "      <td>2013</td>\n",
       "      <td>Facepunch Studios</td>\n",
       "    </tr>\n",
       "    <tr>\n",
       "      <th>3</th>\n",
       "      <td>True</td>\n",
       "      <td>0</td>\n",
       "      <td>2014</td>\n",
       "      <td>Valve</td>\n",
       "    </tr>\n",
       "    <tr>\n",
       "      <th>4</th>\n",
       "      <td>True</td>\n",
       "      <td>2</td>\n",
       "      <td>2014</td>\n",
       "      <td>Transhuman Design</td>\n",
       "    </tr>\n",
       "    <tr>\n",
       "      <th>...</th>\n",
       "      <td>...</td>\n",
       "      <td>...</td>\n",
       "      <td>...</td>\n",
       "      <td>...</td>\n",
       "    </tr>\n",
       "    <tr>\n",
       "      <th>2420</th>\n",
       "      <td>True</td>\n",
       "      <td>2</td>\n",
       "      <td>2015</td>\n",
       "      <td>Bluehole, Inc.</td>\n",
       "    </tr>\n",
       "    <tr>\n",
       "      <th>2421</th>\n",
       "      <td>True</td>\n",
       "      <td>2</td>\n",
       "      <td>2015</td>\n",
       "      <td>NaN</td>\n",
       "    </tr>\n",
       "    <tr>\n",
       "      <th>2422</th>\n",
       "      <td>True</td>\n",
       "      <td>2</td>\n",
       "      <td>2013</td>\n",
       "      <td>Digital Extremes</td>\n",
       "    </tr>\n",
       "    <tr>\n",
       "      <th>2423</th>\n",
       "      <td>True</td>\n",
       "      <td>0</td>\n",
       "      <td>2014</td>\n",
       "      <td>NaN</td>\n",
       "    </tr>\n",
       "    <tr>\n",
       "      <th>2424</th>\n",
       "      <td>True</td>\n",
       "      <td>2</td>\n",
       "      <td>2013</td>\n",
       "      <td>Valve</td>\n",
       "    </tr>\n",
       "  </tbody>\n",
       "</table>\n",
       "<p>2425 rows × 4 columns</p>\n",
       "</div>"
      ],
      "text/plain": [
       "      recommend  sentiment_analysis  year  \\\n",
       "0          True                   0  2014   \n",
       "1         False                   2  2015   \n",
       "2          True                   2  2013   \n",
       "3          True                   0  2014   \n",
       "4          True                   2  2014   \n",
       "...         ...                 ...   ...   \n",
       "2420       True                   2  2015   \n",
       "2421       True                   2  2015   \n",
       "2422       True                   2  2013   \n",
       "2423       True                   0  2014   \n",
       "2424       True                   2  2013   \n",
       "\n",
       "                                   developer  \n",
       "0     Eidos Montreal,Feral Interactive (Mac)  \n",
       "1                                        NaN  \n",
       "2                          Facepunch Studios  \n",
       "3                                      Valve  \n",
       "4                          Transhuman Design  \n",
       "...                                      ...  \n",
       "2420                          Bluehole, Inc.  \n",
       "2421                                     NaN  \n",
       "2422                        Digital Extremes  \n",
       "2423                                     NaN  \n",
       "2424                                   Valve  \n",
       "\n",
       "[2425 rows x 4 columns]"
      ]
     },
     "execution_count": 22,
     "metadata": {},
     "output_type": "execute_result"
    }
   ],
   "source": [
    "# Especifica el porcentaje de muestra deseado\n",
    "sample_percent_4 = 5\n",
    "\n",
    "# Toma una muestra aleatoria del DataFrame\n",
    "df_funcion_UsersWorstDeveloper_reducido = df_funcion_UsersWorstDeveloper.sample(frac=sample_percent_4/100.0, random_state=42) # Puedes ajustar el random_state según tus necesidades\n",
    "\n",
    "# Elimino columnas demas\n",
    "df_funcion_UsersWorstDeveloper_reducido = df_funcion_UsersWorstDeveloper_reducido.drop(columns=['item_id', 'title'])\n",
    "\n",
    "# Resetear indice\n",
    "df_funcion_UsersWorstDeveloper_reducido = df_funcion_UsersWorstDeveloper_reducido.reset_index(drop=True)\n",
    "\n",
    "df_funcion_UsersWorstDeveloper_reducido"
   ]
  },
  {
   "cell_type": "code",
   "execution_count": 23,
   "metadata": {},
   "outputs": [],
   "source": [
    "df_funcion_UsersWorstDeveloper_reducido.to_parquet('df_funciones/df_funcion_UsersWorstDeveloper_reducido.parquet')"
   ]
  },
  {
   "cell_type": "markdown",
   "metadata": {},
   "source": [
    "# Funcion 5"
   ]
  },
  {
   "cell_type": "code",
   "execution_count": 24,
   "metadata": {},
   "outputs": [],
   "source": [
    "# Funcion 5\n",
    "df_funcion_sentiment_analysis = pd.read_csv('df_funciones/df_funcion_sentiment_analysis.csv')"
   ]
  },
  {
   "cell_type": "code",
   "execution_count": 26,
   "metadata": {},
   "outputs": [
    {
     "data": {
      "text/html": [
       "<div>\n",
       "<style scoped>\n",
       "    .dataframe tbody tr th:only-of-type {\n",
       "        vertical-align: middle;\n",
       "    }\n",
       "\n",
       "    .dataframe tbody tr th {\n",
       "        vertical-align: top;\n",
       "    }\n",
       "\n",
       "    .dataframe thead th {\n",
       "        text-align: right;\n",
       "    }\n",
       "</style>\n",
       "<table border=\"1\" class=\"dataframe\">\n",
       "  <thead>\n",
       "    <tr style=\"text-align: right;\">\n",
       "      <th></th>\n",
       "      <th>developer</th>\n",
       "      <th>sentiment_analysis</th>\n",
       "    </tr>\n",
       "  </thead>\n",
       "  <tbody>\n",
       "    <tr>\n",
       "      <th>0</th>\n",
       "      <td>Valve</td>\n",
       "      <td>0.0</td>\n",
       "    </tr>\n",
       "    <tr>\n",
       "      <th>1</th>\n",
       "      <td>Valve</td>\n",
       "      <td>0.0</td>\n",
       "    </tr>\n",
       "    <tr>\n",
       "      <th>2</th>\n",
       "      <td>Chucklefish</td>\n",
       "      <td>2.0</td>\n",
       "    </tr>\n",
       "    <tr>\n",
       "      <th>3</th>\n",
       "      <td>Double Fine Productions</td>\n",
       "      <td>2.0</td>\n",
       "    </tr>\n",
       "    <tr>\n",
       "      <th>4</th>\n",
       "      <td>Edmund McMillen and Florian Himsl</td>\n",
       "      <td>2.0</td>\n",
       "    </tr>\n",
       "    <tr>\n",
       "      <th>...</th>\n",
       "      <td>...</td>\n",
       "      <td>...</td>\n",
       "    </tr>\n",
       "    <tr>\n",
       "      <th>1974</th>\n",
       "      <td>Turtle Rock Studios</td>\n",
       "      <td>2.0</td>\n",
       "    </tr>\n",
       "    <tr>\n",
       "      <th>1975</th>\n",
       "      <td>Treyarch</td>\n",
       "      <td>2.0</td>\n",
       "    </tr>\n",
       "    <tr>\n",
       "      <th>1976</th>\n",
       "      <td>Wastelands Interactive</td>\n",
       "      <td>NaN</td>\n",
       "    </tr>\n",
       "    <tr>\n",
       "      <th>1977</th>\n",
       "      <td>Valve</td>\n",
       "      <td>1.0</td>\n",
       "    </tr>\n",
       "    <tr>\n",
       "      <th>1978</th>\n",
       "      <td>Valve</td>\n",
       "      <td>1.0</td>\n",
       "    </tr>\n",
       "  </tbody>\n",
       "</table>\n",
       "<p>1979 rows × 2 columns</p>\n",
       "</div>"
      ],
      "text/plain": [
       "                              developer  sentiment_analysis\n",
       "0                                 Valve                 0.0\n",
       "1                                 Valve                 0.0\n",
       "2                           Chucklefish                 2.0\n",
       "3               Double Fine Productions                 2.0\n",
       "4     Edmund McMillen and Florian Himsl                 2.0\n",
       "...                                 ...                 ...\n",
       "1974                Turtle Rock Studios                 2.0\n",
       "1975                           Treyarch                 2.0\n",
       "1976             Wastelands Interactive                 NaN\n",
       "1977                              Valve                 1.0\n",
       "1978                              Valve                 1.0\n",
       "\n",
       "[1979 rows x 2 columns]"
      ]
     },
     "execution_count": 26,
     "metadata": {},
     "output_type": "execute_result"
    }
   ],
   "source": [
    "# Especifica el porcentaje de muestra deseado\n",
    "sample_percent_5 = 5\n",
    "\n",
    "# Toma una muestra aleatoria del DataFrame\n",
    "df_funcion_sentiment_analysis_reducido = df_funcion_sentiment_analysis.sample(frac=sample_percent_5/100.0, random_state=42) # Puedes ajustar el random_state según tus necesidades\n",
    "\n",
    "# Elimino columnas demas\n",
    "df_funcion_sentiment_analysis_reducido = df_funcion_sentiment_analysis_reducido.drop(columns=['item_id', 'item_name'])\n",
    "\n",
    "# Resetear indice\n",
    "df_funcion_sentiment_analysis_reducido = df_funcion_sentiment_analysis_reducido.reset_index(drop=True)\n",
    "\n",
    "df_funcion_sentiment_analysis_reducido"
   ]
  },
  {
   "cell_type": "code",
   "execution_count": 27,
   "metadata": {},
   "outputs": [],
   "source": [
    "df_funcion_sentiment_analysis_reducido.to_parquet('df_funciones/df_funcion_sentiment_analysis_reducido.parquet')"
   ]
  },
  {
   "cell_type": "markdown",
   "metadata": {},
   "source": [
    "# Funcion 6"
   ]
  },
  {
   "cell_type": "code",
   "execution_count": 28,
   "metadata": {},
   "outputs": [],
   "source": [
    "df_combinado2 = pd.read_parquet(\"df_funciones/df_recomend_juego_fc6.parquet\")"
   ]
  },
  {
   "cell_type": "code",
   "execution_count": 29,
   "metadata": {},
   "outputs": [],
   "source": [
    "df_recomed_juego = df_combinado2.copy()"
   ]
  },
  {
   "cell_type": "code",
   "execution_count": 31,
   "metadata": {},
   "outputs": [
    {
     "data": {
      "text/html": [
       "<div>\n",
       "<style scoped>\n",
       "    .dataframe tbody tr th:only-of-type {\n",
       "        vertical-align: middle;\n",
       "    }\n",
       "\n",
       "    .dataframe tbody tr th {\n",
       "        vertical-align: top;\n",
       "    }\n",
       "\n",
       "    .dataframe thead th {\n",
       "        text-align: right;\n",
       "    }\n",
       "</style>\n",
       "<table border=\"1\" class=\"dataframe\">\n",
       "  <thead>\n",
       "    <tr style=\"text-align: right;\">\n",
       "      <th></th>\n",
       "      <th>genres</th>\n",
       "      <th>title</th>\n",
       "      <th>item_id</th>\n",
       "    </tr>\n",
       "  </thead>\n",
       "  <tbody>\n",
       "    <tr>\n",
       "      <th>0</th>\n",
       "      <td>Action</td>\n",
       "      <td>Grand Theft Auto: San Andreas</td>\n",
       "      <td>12120</td>\n",
       "    </tr>\n",
       "    <tr>\n",
       "      <th>1</th>\n",
       "      <td>Adventure</td>\n",
       "      <td>The Stanley Parable</td>\n",
       "      <td>221910</td>\n",
       "    </tr>\n",
       "    <tr>\n",
       "      <th>2</th>\n",
       "      <td>Action</td>\n",
       "      <td>Warface</td>\n",
       "      <td>291480</td>\n",
       "    </tr>\n",
       "    <tr>\n",
       "      <th>3</th>\n",
       "      <td>Action</td>\n",
       "      <td>Fistful of Frags</td>\n",
       "      <td>265630</td>\n",
       "    </tr>\n",
       "    <tr>\n",
       "      <th>4</th>\n",
       "      <td>Strategy</td>\n",
       "      <td>Europe at War</td>\n",
       "      <td>342370</td>\n",
       "    </tr>\n",
       "    <tr>\n",
       "      <th>...</th>\n",
       "      <td>...</td>\n",
       "      <td>...</td>\n",
       "      <td>...</td>\n",
       "    </tr>\n",
       "    <tr>\n",
       "      <th>156995</th>\n",
       "      <td>Adventure</td>\n",
       "      <td>L.A. Noire</td>\n",
       "      <td>110800</td>\n",
       "    </tr>\n",
       "    <tr>\n",
       "      <th>156996</th>\n",
       "      <td>Indie</td>\n",
       "      <td>Realm of the Mad God</td>\n",
       "      <td>200210</td>\n",
       "    </tr>\n",
       "    <tr>\n",
       "      <th>156997</th>\n",
       "      <td>Adventure</td>\n",
       "      <td>Contagion</td>\n",
       "      <td>238430</td>\n",
       "    </tr>\n",
       "    <tr>\n",
       "      <th>156998</th>\n",
       "      <td>Action</td>\n",
       "      <td>Grand Theft Auto: Episodes from Liberty City</td>\n",
       "      <td>12220</td>\n",
       "    </tr>\n",
       "    <tr>\n",
       "      <th>156999</th>\n",
       "      <td>Adventure</td>\n",
       "      <td>Far Cry® 4</td>\n",
       "      <td>298110</td>\n",
       "    </tr>\n",
       "  </tbody>\n",
       "</table>\n",
       "<p>157000 rows × 3 columns</p>\n",
       "</div>"
      ],
      "text/plain": [
       "           genres                                         title  item_id\n",
       "0          Action                 Grand Theft Auto: San Andreas    12120\n",
       "1       Adventure                           The Stanley Parable   221910\n",
       "2          Action                                       Warface   291480\n",
       "3          Action                              Fistful of Frags   265630\n",
       "4        Strategy                                 Europe at War   342370\n",
       "...           ...                                           ...      ...\n",
       "156995  Adventure                                    L.A. Noire   110800\n",
       "156996      Indie                          Realm of the Mad God   200210\n",
       "156997  Adventure                                     Contagion   238430\n",
       "156998     Action  Grand Theft Auto: Episodes from Liberty City    12220\n",
       "156999  Adventure                                    Far Cry® 4   298110\n",
       "\n",
       "[157000 rows x 3 columns]"
      ]
     },
     "execution_count": 31,
     "metadata": {},
     "output_type": "execute_result"
    }
   ],
   "source": [
    "# Especifica el porcentaje de muestra deseado\n",
    "sample_percent_6 = 5\n",
    "\n",
    "# Toma una muestra aleatoria del DataFrame\n",
    "df_recomed_juego_reducido = df_recomed_juego.sample(frac=sample_percent_6/100.0, random_state=42) # Puedes ajustar el random_state según tus necesidades\n",
    "\n",
    "# Elimino columnas demas\n",
    "df_recomed_juego_reducido = df_recomed_juego_reducido.drop(columns=['developer', 'playtime_forever'])\n",
    "\n",
    "# Resetear indice\n",
    "df_recomed_juego_reducido = df_recomed_juego_reducido.reset_index(drop=True)\n",
    "\n",
    "df_recomed_juego_reducido"
   ]
  },
  {
   "cell_type": "code",
   "execution_count": 32,
   "metadata": {},
   "outputs": [],
   "source": [
    "df_recomed_juego_reducido.to_parquet('df_funciones/df_recomed_juego_reducido.parquet')"
   ]
  }
 ],
 "metadata": {
  "kernelspec": {
   "display_name": "Python 3",
   "language": "python",
   "name": "python3"
  },
  "language_info": {
   "codemirror_mode": {
    "name": "ipython",
    "version": 3
   },
   "file_extension": ".py",
   "mimetype": "text/x-python",
   "name": "python",
   "nbconvert_exporter": "python",
   "pygments_lexer": "ipython3",
   "version": "3.11.2"
  }
 },
 "nbformat": 4,
 "nbformat_minor": 2
}
